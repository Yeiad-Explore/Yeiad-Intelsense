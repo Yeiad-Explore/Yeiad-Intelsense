{
  "nbformat": 4,
  "nbformat_minor": 0,
  "metadata": {
    "colab": {
      "provenance": []
    },
    "kernelspec": {
      "name": "python3",
      "display_name": "Python 3"
    },
    "language_info": {
      "name": "python"
    }
  },
  "cells": [
    {
      "cell_type": "markdown",
      "source": [
        "## Key Components\n",
        "1. **State Management**: Using TypedDict to define and manage the state of each customer interaction.\n",
        "2. **Query Categorization**: Classifying customer queries into Technical, Billing, or General categories.\n",
        "3. **Sentiment Analysis**: Determining the emotional tone of customer queries.\n",
        "4. **Response Generation**: Creating appropriate responses based on the query category and sentiment.\n",
        "5. **Escalation Mechanism**: Automatically escalating queries with negative sentiment to human agents.\n",
        "6. **Workflow Graph**: Utilizing LangGraph to create a flexible and extensible workflow.\n",
        "\n",
        "## Method Details\n",
        "1. **Initialization**: Set up the environment and import necessary libraries.\n",
        "2. **State Definition**: Create a structure to hold query information, category, sentiment, and response.\n",
        "3. **Node Functions**: Implement separate functions for categorization, sentiment analysis, and response generation.\n",
        "4. **Graph Construction**: Use StateGraph to define the workflow, adding nodes and edges to represent the support process.\n",
        "5. **Conditional Routing**: Implement logic to route queries based on their category and sentiment.\n",
        "6. **Workflow Compilation**: Compile the graph into an executable application.\n",
        "7. **Execution**: Process customer queries through the workflow and retrieve results."
      ],
      "metadata": {
        "id": "2PjX5NRsMnh8"
      }
    },
    {
      "cell_type": "code",
      "source": [
        "!pip install langchain langchain_core langchain_groq langchain_community langgraph"
      ],
      "metadata": {
        "colab": {
          "base_uri": "https://localhost:8080/"
        },
        "id": "qjdkKggMMiQF",
        "outputId": "830f2e50-6870-4dc3-e7ab-1a04e099a0e1"
      },
      "execution_count": 13,
      "outputs": [
        {
          "output_type": "stream",
          "name": "stdout",
          "text": [
            "Requirement already satisfied: langchain in /usr/local/lib/python3.11/dist-packages (0.3.18)\n",
            "Requirement already satisfied: langchain_core in /usr/local/lib/python3.11/dist-packages (0.3.35)\n",
            "Requirement already satisfied: langchain_groq in /usr/local/lib/python3.11/dist-packages (0.2.4)\n",
            "Requirement already satisfied: langchain_community in /usr/local/lib/python3.11/dist-packages (0.3.17)\n",
            "Requirement already satisfied: langgraph in /usr/local/lib/python3.11/dist-packages (0.2.73)\n",
            "Requirement already satisfied: langchain-text-splitters<1.0.0,>=0.3.6 in /usr/local/lib/python3.11/dist-packages (from langchain) (0.3.6)\n",
            "Requirement already satisfied: langsmith<0.4,>=0.1.17 in /usr/local/lib/python3.11/dist-packages (from langchain) (0.3.8)\n",
            "Requirement already satisfied: pydantic<3.0.0,>=2.7.4 in /usr/local/lib/python3.11/dist-packages (from langchain) (2.10.6)\n",
            "Requirement already satisfied: SQLAlchemy<3,>=1.4 in /usr/local/lib/python3.11/dist-packages (from langchain) (2.0.38)\n",
            "Requirement already satisfied: requests<3,>=2 in /usr/local/lib/python3.11/dist-packages (from langchain) (2.32.3)\n",
            "Requirement already satisfied: PyYAML>=5.3 in /usr/local/lib/python3.11/dist-packages (from langchain) (6.0.2)\n",
            "Requirement already satisfied: aiohttp<4.0.0,>=3.8.3 in /usr/local/lib/python3.11/dist-packages (from langchain) (3.11.12)\n",
            "Requirement already satisfied: tenacity!=8.4.0,<10,>=8.1.0 in /usr/local/lib/python3.11/dist-packages (from langchain) (9.0.0)\n",
            "Requirement already satisfied: numpy<2,>=1.26.4 in /usr/local/lib/python3.11/dist-packages (from langchain) (1.26.4)\n",
            "Requirement already satisfied: jsonpatch<2.0,>=1.33 in /usr/local/lib/python3.11/dist-packages (from langchain_core) (1.33)\n",
            "Requirement already satisfied: packaging<25,>=23.2 in /usr/local/lib/python3.11/dist-packages (from langchain_core) (24.2)\n",
            "Requirement already satisfied: typing-extensions>=4.7 in /usr/local/lib/python3.11/dist-packages (from langchain_core) (4.12.2)\n",
            "Requirement already satisfied: groq<1,>=0.4.1 in /usr/local/lib/python3.11/dist-packages (from langchain_groq) (0.18.0)\n",
            "Requirement already satisfied: dataclasses-json<0.7,>=0.5.7 in /usr/local/lib/python3.11/dist-packages (from langchain_community) (0.6.7)\n",
            "Requirement already satisfied: pydantic-settings<3.0.0,>=2.4.0 in /usr/local/lib/python3.11/dist-packages (from langchain_community) (2.7.1)\n",
            "Requirement already satisfied: httpx-sse<1.0.0,>=0.4.0 in /usr/local/lib/python3.11/dist-packages (from langchain_community) (0.4.0)\n",
            "Requirement already satisfied: langgraph-checkpoint<3.0.0,>=2.0.10 in /usr/local/lib/python3.11/dist-packages (from langgraph) (2.0.15)\n",
            "Requirement already satisfied: langgraph-sdk<0.2.0,>=0.1.42 in /usr/local/lib/python3.11/dist-packages (from langgraph) (0.1.51)\n",
            "Requirement already satisfied: aiohappyeyeballs>=2.3.0 in /usr/local/lib/python3.11/dist-packages (from aiohttp<4.0.0,>=3.8.3->langchain) (2.4.6)\n",
            "Requirement already satisfied: aiosignal>=1.1.2 in /usr/local/lib/python3.11/dist-packages (from aiohttp<4.0.0,>=3.8.3->langchain) (1.3.2)\n",
            "Requirement already satisfied: attrs>=17.3.0 in /usr/local/lib/python3.11/dist-packages (from aiohttp<4.0.0,>=3.8.3->langchain) (25.1.0)\n",
            "Requirement already satisfied: frozenlist>=1.1.1 in /usr/local/lib/python3.11/dist-packages (from aiohttp<4.0.0,>=3.8.3->langchain) (1.5.0)\n",
            "Requirement already satisfied: multidict<7.0,>=4.5 in /usr/local/lib/python3.11/dist-packages (from aiohttp<4.0.0,>=3.8.3->langchain) (6.1.0)\n",
            "Requirement already satisfied: propcache>=0.2.0 in /usr/local/lib/python3.11/dist-packages (from aiohttp<4.0.0,>=3.8.3->langchain) (0.2.1)\n",
            "Requirement already satisfied: yarl<2.0,>=1.17.0 in /usr/local/lib/python3.11/dist-packages (from aiohttp<4.0.0,>=3.8.3->langchain) (1.18.3)\n",
            "Requirement already satisfied: marshmallow<4.0.0,>=3.18.0 in /usr/local/lib/python3.11/dist-packages (from dataclasses-json<0.7,>=0.5.7->langchain_community) (3.26.1)\n",
            "Requirement already satisfied: typing-inspect<1,>=0.4.0 in /usr/local/lib/python3.11/dist-packages (from dataclasses-json<0.7,>=0.5.7->langchain_community) (0.9.0)\n",
            "Requirement already satisfied: anyio<5,>=3.5.0 in /usr/local/lib/python3.11/dist-packages (from groq<1,>=0.4.1->langchain_groq) (3.7.1)\n",
            "Requirement already satisfied: distro<2,>=1.7.0 in /usr/local/lib/python3.11/dist-packages (from groq<1,>=0.4.1->langchain_groq) (1.9.0)\n",
            "Requirement already satisfied: httpx<1,>=0.23.0 in /usr/local/lib/python3.11/dist-packages (from groq<1,>=0.4.1->langchain_groq) (0.28.1)\n",
            "Requirement already satisfied: sniffio in /usr/local/lib/python3.11/dist-packages (from groq<1,>=0.4.1->langchain_groq) (1.3.1)\n",
            "Requirement already satisfied: jsonpointer>=1.9 in /usr/local/lib/python3.11/dist-packages (from jsonpatch<2.0,>=1.33->langchain_core) (3.0.0)\n",
            "Requirement already satisfied: msgpack<2.0.0,>=1.1.0 in /usr/local/lib/python3.11/dist-packages (from langgraph-checkpoint<3.0.0,>=2.0.10->langgraph) (1.1.0)\n",
            "Requirement already satisfied: orjson>=3.10.1 in /usr/local/lib/python3.11/dist-packages (from langgraph-sdk<0.2.0,>=0.1.42->langgraph) (3.10.15)\n",
            "Requirement already satisfied: requests-toolbelt<2.0.0,>=1.0.0 in /usr/local/lib/python3.11/dist-packages (from langsmith<0.4,>=0.1.17->langchain) (1.0.0)\n",
            "Requirement already satisfied: zstandard<0.24.0,>=0.23.0 in /usr/local/lib/python3.11/dist-packages (from langsmith<0.4,>=0.1.17->langchain) (0.23.0)\n",
            "Requirement already satisfied: annotated-types>=0.6.0 in /usr/local/lib/python3.11/dist-packages (from pydantic<3.0.0,>=2.7.4->langchain) (0.7.0)\n",
            "Requirement already satisfied: pydantic-core==2.27.2 in /usr/local/lib/python3.11/dist-packages (from pydantic<3.0.0,>=2.7.4->langchain) (2.27.2)\n",
            "Requirement already satisfied: python-dotenv>=0.21.0 in /usr/local/lib/python3.11/dist-packages (from pydantic-settings<3.0.0,>=2.4.0->langchain_community) (1.0.1)\n",
            "Requirement already satisfied: charset-normalizer<4,>=2 in /usr/local/lib/python3.11/dist-packages (from requests<3,>=2->langchain) (3.4.1)\n",
            "Requirement already satisfied: idna<4,>=2.5 in /usr/local/lib/python3.11/dist-packages (from requests<3,>=2->langchain) (3.10)\n",
            "Requirement already satisfied: urllib3<3,>=1.21.1 in /usr/local/lib/python3.11/dist-packages (from requests<3,>=2->langchain) (2.3.0)\n",
            "Requirement already satisfied: certifi>=2017.4.17 in /usr/local/lib/python3.11/dist-packages (from requests<3,>=2->langchain) (2025.1.31)\n",
            "Requirement already satisfied: greenlet!=0.4.17 in /usr/local/lib/python3.11/dist-packages (from SQLAlchemy<3,>=1.4->langchain) (3.1.1)\n",
            "Requirement already satisfied: httpcore==1.* in /usr/local/lib/python3.11/dist-packages (from httpx<1,>=0.23.0->groq<1,>=0.4.1->langchain_groq) (1.0.7)\n",
            "Requirement already satisfied: h11<0.15,>=0.13 in /usr/local/lib/python3.11/dist-packages (from httpcore==1.*->httpx<1,>=0.23.0->groq<1,>=0.4.1->langchain_groq) (0.14.0)\n",
            "Requirement already satisfied: mypy-extensions>=0.3.0 in /usr/local/lib/python3.11/dist-packages (from typing-inspect<1,>=0.4.0->dataclasses-json<0.7,>=0.5.7->langchain_community) (1.0.0)\n"
          ]
        }
      ]
    },
    {
      "cell_type": "code",
      "source": [
        "from typing import TypedDict, Dict\n",
        "from langgraph.graph import StateGraph, END\n",
        "from langchain_core.prompts import ChatPromptTemplate\n",
        "from langchain_core.runnables.graph import MermaidDrawMethod\n",
        "from langchain_groq import ChatGroq\n",
        "from langchain_community.tools import TavilySearchResults\n",
        "from IPython.display import display, Image"
      ],
      "metadata": {
        "id": "vdc3rrhVM1om"
      },
      "execution_count": 14,
      "outputs": []
    },
    {
      "cell_type": "code",
      "source": [
        "\n",
        "class State(TypedDict):\n",
        "    query: str\n",
        "    category: str\n",
        "    sentiment: str\n",
        "    response: str\n",
        "    human_approved: bool\n",
        "    feedback: str\n",
        ""
      ],
      "metadata": {
        "id": "bqr48qO0N_WN"
      },
      "execution_count": 15,
      "outputs": []
    },
    {
      "cell_type": "markdown",
      "source": [
        "**Search**"
      ],
      "metadata": {
        "id": "y4zkFk9qt0pX"
      }
    },
    {
      "cell_type": "markdown",
      "source": [
        "**LLM**"
      ],
      "metadata": {
        "id": "pzgNRHbbYwON"
      }
    },
    {
      "cell_type": "code",
      "source": [
        "from langchain_groq import ChatGroq\n",
        "\n",
        "llm = ChatGroq(\n",
        "    temperature=0,\n",
        "    groq_api_key = \"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\",\n",
        "    model_name = \"llama-3.3-70b-versatile\"\n",
        ")\n",
        "result = llm.invoke(\"What is langchain\")\n",
        "result.content"
      ],
      "metadata": {
        "colab": {
          "base_uri": "https://localhost:8080/",
          "height": 140
        },
        "id": "ibpQOLnDTq2B",
        "outputId": "05ea3a48-ed1e-4b86-f64d-4fe0f7997b18"
      },
      "execution_count": 16,
      "outputs": [
        {
          "output_type": "execute_result",
          "data": {
            "text/plain": [
              "\"LangChain is an open-source framework designed to help developers build applications that utilize large language models (LLMs) more efficiently. It was created to simplify the process of integrating LLMs into various projects, making it easier for developers to focus on building their applications rather than worrying about the underlying infrastructure.\\n\\nLangChain provides a set of tools and libraries that enable developers to:\\n\\n1. **Interact with LLMs**: LangChain offers a unified interface to interact with different LLMs, such as LLaMA, PaLM, and others, allowing developers to switch between models seamlessly.\\n2. **Manage memory and caching**: LangChain includes features to manage memory and caching, which helps to reduce the computational resources required to run LLMs and improves overall performance.\\n3. **Implement indexing and retrieval**: LangChain provides tools for indexing and retrieving data from LLMs, making it easier to store and retrieve information generated by the models.\\n4. **Build conversational interfaces**: LangChain includes libraries and tools to build conversational interfaces, such as chatbots and voice assistants, that can interact with users in a more human-like way.\\n\\nThe key benefits of using LangChain include:\\n\\n* **Simplified development**: LangChain abstracts away the complexities of working with LLMs, allowing developers to focus on building their applications.\\n* **Improved performance**: LangChain's memory management and caching features help to reduce the computational resources required to run LLMs.\\n* **Increased flexibility**: LangChain's unified interface and modular design make it easier to switch between different LLMs and integrate them into various projects.\\n\\nOverall, LangChain is a powerful tool for developers who want to build applications that leverage the capabilities of large language models. By providing a simplified and efficient way to interact with LLMs, LangChain enables developers to create more sophisticated and effective AI-powered applications.\""
            ],
            "application/vnd.google.colaboratory.intrinsic+json": {
              "type": "string"
            }
          },
          "metadata": {},
          "execution_count": 16
        }
      ]
    },
    {
      "cell_type": "markdown",
      "source": [
        "**Node Functions**"
      ],
      "metadata": {
        "id": "Oi_zBbs3ZTMU"
      }
    },
    {
      "cell_type": "code",
      "source": [
        "def categorize(state: State) -> State:\n",
        "  \"Technical, Billing, General\"\n",
        "  prompt = ChatPromptTemplate.from_template(\n",
        "      \"Categorize the following customer query into one of these categories: \"\n",
        "      \"Technical, Billing, General. Query: {query}\"\n",
        "  )\n",
        "  chain = prompt | llm\n",
        "  category = chain.invoke({\"query\": state[\"query\"]}).content\n",
        "  return {\"category\": category}\n",
        "\n",
        "# ------------------------------------------------------------------------------------------------------- #\n",
        "# ------------------------------------------------------------------------------------------------------- #\n",
        "\n",
        "def analyze_sentiment(state: State) -> State:\n",
        "  prompt = ChatPromptTemplate.from_template(\n",
        "      \"Analyze the sentiment of the following customer query\"\n",
        "      \"Response with either 'Position', 'Neutral' , or 'Negative'. Query: {query}\"\n",
        "  )\n",
        "  chain = prompt | llm\n",
        "  sentiment = chain.invoke({\"query\": state[\"query\"]}).content\n",
        "  return {\"sentiment\": sentiment}\n",
        "\n",
        "# ------------------------------------------------------------------------------------------------------- #\n",
        "# ------------------------------------------------------------------------------------------------------- #\n",
        "\n",
        "def handle_technical(state: State)->State:\n",
        "  prompt = ChatPromptTemplate.from_template(\n",
        "      \"Provide a technical support response to the following query : {query}\"\n",
        "  )\n",
        "  chain = prompt | llm\n",
        "  response = chain.invoke({\"query\": state[\"query\"]}).content\n",
        "  return {\"response\": response}\n",
        "\n",
        "# ------------------------------------------------------------------------------------------------------- #\n",
        "# ------------------------------------------------------------------------------------------------------- #\n",
        "\n",
        "def handle_billing(state: State)->State:\n",
        "  prompt = ChatPromptTemplate.from_template(\n",
        "      \"Provide a billing support response to the following query : {query}\"\n",
        "  )\n",
        "  chain = prompt | llm\n",
        "  response = chain.invoke({\"query\": state[\"query\"]}).content\n",
        "  return {\"response\": response}\n",
        "\n",
        "\n",
        "# ------------------------------------------------------------------------------------------------------- #\n",
        "# ------------------------------------------------------------------------------------------------------- #\n",
        "\n",
        "def handle_general(state: State)->State:\n",
        "  prompt = ChatPromptTemplate.from_template(\n",
        "      \"Provide a general support response to the following query : {query}\"\n",
        "  )\n",
        "  chain = prompt | llm\n",
        "  response = chain.invoke({\"query\": state[\"query\"]}).content\n",
        "  return {\"response\": response}\n",
        "\n",
        "# ------------------------------------------------------------------------------------------------------- #\n",
        "# ------------------------------------------------------------------------------------------------------- #\n",
        "\n",
        "\n",
        "def escalate(state: State)->State:\n",
        "  return {\"response\": \"This query has been escalate to a human agent due to its negative sentiment\"}\n",
        "\n",
        "# ------------------------------------------------------------------------------------------------------- #\n",
        "# ------------------------------------------------------------------------------------------------------- #\n",
        "\n",
        "#human review\n",
        "def human_review(state: State) -> State:\n",
        "    \"\"\"Simulated human review function\"\"\"\n",
        "    print(\"\\nHuman Review Required\")\n",
        "    print(f\"Query: {state['query']}\")\n",
        "    print(f\"Category: {state['category']}\")\n",
        "    print(f\"Sentiment: {state['sentiment']}\")\n",
        "    print(f\"Proposed Response: {state['response']}\\n\")\n",
        "\n",
        "    approval = input(\"Approve response? (yes/no): \").lower().strip()\n",
        "    feedback = \"\"\n",
        "    if approval != \"yes\":\n",
        "        feedback = input(\"Please provide feedback or corrections: \")\n",
        "\n",
        "    return {\n",
        "        \"human_approved\": approval == \"yes\",\n",
        "        \"feedback\": feedback\n",
        "    }\n",
        "\n",
        "# ------------------------------------------------------------------------------------------------------- #\n",
        "# ------------------------------------------------------------------------------------------------------- #\n",
        "\n",
        "# New function for revising responses\n",
        "def revise_response(state: State) -> State:\n",
        "    \"\"\"Revise response based on human feedback\"\"\"\n",
        "    if state[\"human_approved\"]:\n",
        "        return state\n",
        "\n",
        "    prompt = ChatPromptTemplate.from_template(\n",
        "        \"Please revise this customer support response based on the feedback provided.\\n\"\n",
        "        \"Original Response: {response}\\n\"\n",
        "        \"Feedback: {feedback}\\n\"\n",
        "        \"Provide a revised response.\"\n",
        "    )\n",
        "    chain = prompt | llm\n",
        "    revised_response = chain.invoke({\n",
        "        \"response\": state[\"response\"],\n",
        "        \"feedback\": state[\"feedback\"]\n",
        "    }).content\n",
        "\n",
        "    return {\"response\": revised_response}\n",
        "\n",
        "# ------------------------------------------------------------------------------------------------------- #\n",
        "# ------------------------------------------------------------------------------------------------------- #\n",
        "\n",
        "def route_query(state: State)->State:\n",
        "  if state[\"sentiment\"] == \"Negative\":\n",
        "    return \"escalate\"\n",
        "  elif state[\"category\"] == \"Technical\":\n",
        "    return \"handle_technical\"\n",
        "  elif state[\"category\"] == \"Billing\":\n",
        "    return \"handle_billing\"\n",
        "  else:\n",
        "    return \"handle_general\"\n",
        "\n",
        "# ------------------------------------------------------------------------------------------------------- #\n",
        "# ------------------------------------------------------------------------------------------------------- #\n",
        "\n",
        "# New routing function for revision\n",
        "def should_revise(state: State) -> str:\n",
        "    \"\"\"Determine if response needs revision\"\"\"\n",
        "    return \"revise_response\" if not state[\"human_approved\"] else \"end\"\n"
      ],
      "metadata": {
        "id": "x5ghJPnNYfdL"
      },
      "execution_count": 17,
      "outputs": []
    },
    {
      "cell_type": "markdown",
      "source": [
        "**Create and Configure the graph**"
      ],
      "metadata": {
        "id": "5K8_K-_bmHrf"
      }
    },
    {
      "cell_type": "code",
      "source": [
        "# Create and configure the workflow\n",
        "workflow = StateGraph(State)\n",
        "\n",
        "# Add nodes\n",
        "workflow.add_node(\"categorize\", categorize)\n",
        "workflow.add_node(\"analyze_sentiment\", analyze_sentiment)\n",
        "workflow.add_node(\"handle_technical\", handle_technical)\n",
        "workflow.add_node(\"handle_billing\", handle_billing)\n",
        "workflow.add_node(\"handle_general\", handle_general)\n",
        "workflow.add_node(\"escalate\", escalate)\n",
        "workflow.add_node(\"human_review\", human_review)\n",
        "workflow.add_node(\"revise_response\", revise_response)\n",
        "\n",
        "# Add edges\n",
        "workflow.add_edge(\"categorize\", \"analyze_sentiment\")\n",
        "workflow.add_conditional_edges(\n",
        "    \"analyze_sentiment\",\n",
        "    route_query,\n",
        "    {\n",
        "        \"handle_technical\": \"handle_technical\",\n",
        "        \"handle_billing\": \"handle_billing\",\n",
        "        \"handle_general\": \"handle_general\",\n",
        "        \"escalate\": \"escalate\"\n",
        "    }\n",
        ")\n",
        "\n",
        "# Add human review edges\n",
        "workflow.add_edge(\"handle_technical\", \"human_review\")\n",
        "workflow.add_edge(\"handle_billing\", \"human_review\")\n",
        "workflow.add_edge(\"handle_general\", \"human_review\")\n",
        "workflow.add_edge(\"escalate\", \"human_review\")\n",
        "\n",
        "# Add conditional edges for revision\n",
        "workflow.add_conditional_edges(\n",
        "    \"human_review\",\n",
        "    should_revise,\n",
        "    {\n",
        "        \"revise_response\": \"revise_response\",\n",
        "        \"end\": END\n",
        "    }\n",
        ")\n",
        "workflow.add_edge(\"revise_response\", \"human_review\")\n",
        "\n",
        "# Set entry point\n",
        "workflow.set_entry_point(\"categorize\")\n",
        "\n",
        "# Compile the workflow\n",
        "app = workflow.compile()"
      ],
      "metadata": {
        "id": "vXmxptOjiA07"
      },
      "execution_count": 18,
      "outputs": []
    },
    {
      "cell_type": "code",
      "source": [
        "display(\n",
        "    Image(\n",
        "        app.get_graph().draw_mermaid_png(\n",
        "            draw_method=MermaidDrawMethod.API\n",
        "        )\n",
        "    )\n",
        ")"
      ],
      "metadata": {
        "colab": {
          "base_uri": "https://localhost:8080/",
          "height": 587
        },
        "id": "gTP1akjqoiU5",
        "outputId": "eeaf3950-b7be-4cc7-a354-50af112d5acb"
      },
      "execution_count": 19,
      "outputs": [
        {
          "output_type": "display_data",
          "data": {
            "image/png": "[encoded data removed]",
            "text/plain": [
              "<IPython.core.display.Image object>"
            ]
          },
          "metadata": {}
        }
      ]
    },
    {
      "cell_type": "markdown",
      "source": [
        "**Customer Support Function**"
      ],
      "metadata": {
        "id": "UsOw2NOnrOdV"
      }
    },
    {
      "cell_type": "code",
      "source": [
        "def run_customer_support(query: str) -> Dict[str, str]:\n",
        "    results = app.invoke({\n",
        "        \"query\": query,\n",
        "        \"human_approved\": False,\n",
        "        \"feedback\": \"\"\n",
        "    })\n",
        "    return {\n",
        "        \"category\": results[\"category\"],\n",
        "        \"sentiment\": results[\"sentiment\"],\n",
        "        \"response\": results[\"response\"],\n",
        "        \"human_approved\": results[\"human_approved\"],\n",
        "        \"feedback\": results[\"feedback\"]\n",
        "    }"
      ],
      "metadata": {
        "id": "DZTDbPC5pvyW"
      },
      "execution_count": 20,
      "outputs": []
    },
    {
      "cell_type": "code",
      "source": [
        "# Test cases for different query types\n",
        "\n",
        "def test_support_agent():\n",
        "    # Test Case 1: Technical Query\n",
        "    print(\"\\n=== Test Case 1: Technical Query ===\")\n",
        "    query = \"My internet connection is not working and I need help fixing it\"\n",
        "    print(f\"Testing query: {query}\")\n",
        "    result = run_customer_support(query)\n",
        "    print(\"\\nFinal Result:\")\n",
        "    print(f\"Category: {result['category']}\")\n",
        "    print(f\"Sentiment: {result['sentiment']}\")\n",
        "    print(f\"Response: {result['response']}\")\n",
        "    print(f\"Human Approved: {result['human_approved']}\")\n",
        "    if result['feedback']:\n",
        "        print(f\"Feedback: {result['feedback']}\")\n",
        "\n",
        "\n",
        "\n",
        "\n",
        "# Run the tests\n",
        "if __name__ == \"__main__\":\n",
        "    print(\"Starting Customer Support Agent Tests...\")\n",
        "    test_support_agent()"
      ],
      "metadata": {
        "colab": {
          "base_uri": "https://localhost:8080/"
        },
        "id": "kbJam4nG0VEO",
        "outputId": "7df06377-3c53-45a0-9192-a3a0399fd6c8"
      },
      "execution_count": 21,
      "outputs": [
        {
          "output_type": "stream",
          "name": "stdout",
          "text": [
            "Starting Customer Support Agent Tests...\n",
            "\n",
            "=== Test Case 1: Technical Query ===\n",
            "Testing query: My internet connection is not working and I need help fixing it\n",
            "\n",
            "Human Review Required\n",
            "Query: My internet connection is not working and I need help fixing it\n",
            "Category: The customer query \"My internet connection is not working and I need help fixing it\" would be categorized as: Technical.\n",
            "\n",
            "This is because the query is related to a technical issue with the customer's internet connection, and they are seeking assistance to resolve the problem.\n",
            "Sentiment: Neutral. \n",
            "\n",
            "Although the customer is experiencing an issue, the tone of the query is informative and seeking help, rather than expressing frustration or anger, which would be characteristic of a Negative sentiment. There is also no explicit expression of satisfaction or appreciation, which would be characteristic of a Positive sentiment. The customer is simply stating their problem and requesting assistance, resulting in a Neutral sentiment.\n",
            "Proposed Response: I'm so sorry to hear that your internet connection is not working. I'm here to help you troubleshoot and get back online as soon as possible.\n",
            "\n",
            "To start, can you please try a few basic steps to see if they resolve the issue:\n",
            "\n",
            "1. **Restart your router**: Sometimes, a simple reboot can fix connectivity problems. Unplug the power cord from your router, wait for 30 seconds, and then plug it back in.\n",
            "2. **Check your cables**: Ensure that all cables are securely connected to your router, modem, and devices.\n",
            "3. **Check your internet service provider's (ISP) status**: Visit your ISP's website or social media to see if there are any outages or maintenance in your area.\n",
            "\n",
            "If these steps don't work, please provide me with more details about your issue, such as:\n",
            "\n",
            "* What type of internet connection you have (e.g., Wi-Fi, Ethernet, fiber optic)\n",
            "* The devices you're trying to connect with (e.g., laptop, smartphone, smart TV)\n",
            "* Any error messages you're seeing\n",
            "* When the issue started\n",
            "\n",
            "This will help me better understand your problem and provide more specific guidance to get you back online. I'm here to help, and we'll work together to resolve the issue.\n",
            "\n",
            "Approve response? (yes/no): no\n",
            "Please provide feedback or corrections: wifi problem\n",
            "\n",
            "Human Review Required\n",
            "Query: My internet connection is not working and I need help fixing it\n",
            "Category: The customer query \"My internet connection is not working and I need help fixing it\" would be categorized as: Technical.\n",
            "\n",
            "This is because the query is related to a technical issue with the customer's internet connection, and they are seeking assistance to resolve the problem.\n",
            "Sentiment: Neutral. \n",
            "\n",
            "Although the customer is experiencing an issue, the tone of the query is informative and seeking help, rather than expressing frustration or anger, which would be characteristic of a Negative sentiment. There is also no explicit expression of satisfaction or appreciation, which would be characteristic of a Positive sentiment. The customer is simply stating their problem and requesting assistance, resulting in a Neutral sentiment.\n",
            "Proposed Response: I'm so sorry to hear that you're experiencing Wi-Fi connectivity issues. I'm here to help you troubleshoot and get back online as soon as possible.\n",
            "\n",
            "To start, can you please try a few basic steps to see if they resolve the Wi-Fi issue:\n",
            "\n",
            "1. **Restart your router**: Sometimes, a simple reboot can fix Wi-Fi connectivity problems. Unplug the power cord from your router, wait for 30 seconds, and then plug it back in.\n",
            "2. **Check your Wi-Fi settings**: Ensure that your device's Wi-Fi is turned on and that you're connected to the correct network.\n",
            "3. **Move closer to the router**: Try moving your device closer to the router to see if the signal strength improves.\n",
            "4. **Check for physical obstructions**: Ensure that there are no physical obstructions, such as walls or furniture, that could be blocking the Wi-Fi signal.\n",
            "\n",
            "If these steps don't work, please provide me with more details about your Wi-Fi issue, such as:\n",
            "\n",
            "* The type of device you're trying to connect with (e.g., laptop, smartphone, smart TV)\n",
            "* The error message you're seeing (if any)\n",
            "* When the Wi-Fi issue started\n",
            "* If you've made any recent changes to your network settings or hardware\n",
            "\n",
            "This will help me better understand your Wi-Fi problem and provide more specific guidance to get you back online. I'm here to help, and we'll work together to resolve the issue.\n",
            "\n",
            "Approve response? (yes/no): yes\n",
            "\n",
            "Final Result:\n",
            "Category: The customer query \"My internet connection is not working and I need help fixing it\" would be categorized as: Technical.\n",
            "\n",
            "This is because the query is related to a technical issue with the customer's internet connection, and they are seeking assistance to resolve the problem.\n",
            "Sentiment: Neutral. \n",
            "\n",
            "Although the customer is experiencing an issue, the tone of the query is informative and seeking help, rather than expressing frustration or anger, which would be characteristic of a Negative sentiment. There is also no explicit expression of satisfaction or appreciation, which would be characteristic of a Positive sentiment. The customer is simply stating their problem and requesting assistance, resulting in a Neutral sentiment.\n",
            "Response: I'm so sorry to hear that you're experiencing Wi-Fi connectivity issues. I'm here to help you troubleshoot and get back online as soon as possible.\n",
            "\n",
            "To start, can you please try a few basic steps to see if they resolve the Wi-Fi issue:\n",
            "\n",
            "1. **Restart your router**: Sometimes, a simple reboot can fix Wi-Fi connectivity problems. Unplug the power cord from your router, wait for 30 seconds, and then plug it back in.\n",
            "2. **Check your Wi-Fi settings**: Ensure that your device's Wi-Fi is turned on and that you're connected to the correct network.\n",
            "3. **Move closer to the router**: Try moving your device closer to the router to see if the signal strength improves.\n",
            "4. **Check for physical obstructions**: Ensure that there are no physical obstructions, such as walls or furniture, that could be blocking the Wi-Fi signal.\n",
            "\n",
            "If these steps don't work, please provide me with more details about your Wi-Fi issue, such as:\n",
            "\n",
            "* The type of device you're trying to connect with (e.g., laptop, smartphone, smart TV)\n",
            "* The error message you're seeing (if any)\n",
            "* When the Wi-Fi issue started\n",
            "* If you've made any recent changes to your network settings or hardware\n",
            "\n",
            "This will help me better understand your Wi-Fi problem and provide more specific guidance to get you back online. I'm here to help, and we'll work together to resolve the issue.\n",
            "Human Approved: True\n"
          ]
        }
      ]
    },
    {
      "cell_type": "code",
      "source": [],
      "metadata": {
        "id": "DbfeaILX0dn6"
      },
      "execution_count": null,
      "outputs": []
    }
  ]
}